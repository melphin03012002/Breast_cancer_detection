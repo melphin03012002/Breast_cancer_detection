{
  "nbformat": 4,
  "nbformat_minor": 0,
  "metadata": {
    "colab": {
      "name": "Breast_cancer_detection.ipynb",
      "provenance": [],
      "collapsed_sections": [],
      "authorship_tag": "ABX9TyOh9U9W4NOb4fbPyMFLVXP0",
      "include_colab_link": true
    },
    "kernelspec": {
      "name": "python3",
      "display_name": "Python 3"
    },
    "language_info": {
      "name": "python"
    }
  },
  "cells": [
    {
      "cell_type": "markdown",
      "metadata": {
        "id": "view-in-github",
        "colab_type": "text"
      },
      "source": [
        "<a href=\"https://colab.research.google.com/github/melphin03012002/Breast_cancer_detection/blob/main/Breast_cancer_detection.ipynb\" target=\"_parent\"><img src=\"https://colab.research.google.com/assets/colab-badge.svg\" alt=\"Open In Colab\"/></a>"
      ]
    },
    {
      "cell_type": "code",
      "metadata": {
        "id": "3GqRpZ8qar7W"
      },
      "source": [
        "import pandas as pd\n",
        "import numpy as np\n",
        "\n",
        "from sklearn.datasets import load_breast_cancer\n",
        "from sklearn.preprocessing import StandardScaler\n",
        "\n",
        "from keras.models import Sequential\n",
        "from keras.layers import Dense"
      ],
      "execution_count": 1,
      "outputs": []
    },
    {
      "cell_type": "code",
      "metadata": {
        "id": "v55XEsWicJU_"
      },
      "source": [
        "data = load_breast_cancer()"
      ],
      "execution_count": 32,
      "outputs": []
    },
    {
      "cell_type": "code",
      "metadata": {
        "colab": {
          "base_uri": "https://localhost:8080/"
        },
        "id": "rRzYLi5McQbK",
        "outputId": "11cd5db2-ec82-4a73-a253-9fe012872331"
      },
      "source": [
        "data.keys()"
      ],
      "execution_count": 4,
      "outputs": [
        {
          "output_type": "execute_result",
          "data": {
            "text/plain": [
              "dict_keys(['data', 'target', 'target_names', 'DESCR', 'feature_names', 'filename'])"
            ]
          },
          "metadata": {},
          "execution_count": 4
        }
      ]
    },
    {
      "cell_type": "code",
      "metadata": {
        "colab": {
          "base_uri": "https://localhost:8080/"
        },
        "id": "9LuX6i2nccyl",
        "outputId": "2cae4646-35af-4d38-c967-0e8bf2f2f4f9"
      },
      "source": [
        "print(data['DESCR'])"
      ],
      "execution_count": 5,
      "outputs": [
        {
          "output_type": "stream",
          "name": "stdout",
          "text": [
            ".. _breast_cancer_dataset:\n",
            "\n",
            "Breast cancer wisconsin (diagnostic) dataset\n",
            "--------------------------------------------\n",
            "\n",
            "**Data Set Characteristics:**\n",
            "\n",
            "    :Number of Instances: 569\n",
            "\n",
            "    :Number of Attributes: 30 numeric, predictive attributes and the class\n",
            "\n",
            "    :Attribute Information:\n",
            "        - radius (mean of distances from center to points on the perimeter)\n",
            "        - texture (standard deviation of gray-scale values)\n",
            "        - perimeter\n",
            "        - area\n",
            "        - smoothness (local variation in radius lengths)\n",
            "        - compactness (perimeter^2 / area - 1.0)\n",
            "        - concavity (severity of concave portions of the contour)\n",
            "        - concave points (number of concave portions of the contour)\n",
            "        - symmetry \n",
            "        - fractal dimension (\"coastline approximation\" - 1)\n",
            "\n",
            "        The mean, standard error, and \"worst\" or largest (mean of the three\n",
            "        largest values) of these features were computed for each image,\n",
            "        resulting in 30 features.  For instance, field 3 is Mean Radius, field\n",
            "        13 is Radius SE, field 23 is Worst Radius.\n",
            "\n",
            "        - class:\n",
            "                - WDBC-Malignant\n",
            "                - WDBC-Benign\n",
            "\n",
            "    :Summary Statistics:\n",
            "\n",
            "    ===================================== ====== ======\n",
            "                                           Min    Max\n",
            "    ===================================== ====== ======\n",
            "    radius (mean):                        6.981  28.11\n",
            "    texture (mean):                       9.71   39.28\n",
            "    perimeter (mean):                     43.79  188.5\n",
            "    area (mean):                          143.5  2501.0\n",
            "    smoothness (mean):                    0.053  0.163\n",
            "    compactness (mean):                   0.019  0.345\n",
            "    concavity (mean):                     0.0    0.427\n",
            "    concave points (mean):                0.0    0.201\n",
            "    symmetry (mean):                      0.106  0.304\n",
            "    fractal dimension (mean):             0.05   0.097\n",
            "    radius (standard error):              0.112  2.873\n",
            "    texture (standard error):             0.36   4.885\n",
            "    perimeter (standard error):           0.757  21.98\n",
            "    area (standard error):                6.802  542.2\n",
            "    smoothness (standard error):          0.002  0.031\n",
            "    compactness (standard error):         0.002  0.135\n",
            "    concavity (standard error):           0.0    0.396\n",
            "    concave points (standard error):      0.0    0.053\n",
            "    symmetry (standard error):            0.008  0.079\n",
            "    fractal dimension (standard error):   0.001  0.03\n",
            "    radius (worst):                       7.93   36.04\n",
            "    texture (worst):                      12.02  49.54\n",
            "    perimeter (worst):                    50.41  251.2\n",
            "    area (worst):                         185.2  4254.0\n",
            "    smoothness (worst):                   0.071  0.223\n",
            "    compactness (worst):                  0.027  1.058\n",
            "    concavity (worst):                    0.0    1.252\n",
            "    concave points (worst):               0.0    0.291\n",
            "    symmetry (worst):                     0.156  0.664\n",
            "    fractal dimension (worst):            0.055  0.208\n",
            "    ===================================== ====== ======\n",
            "\n",
            "    :Missing Attribute Values: None\n",
            "\n",
            "    :Class Distribution: 212 - Malignant, 357 - Benign\n",
            "\n",
            "    :Creator:  Dr. William H. Wolberg, W. Nick Street, Olvi L. Mangasarian\n",
            "\n",
            "    :Donor: Nick Street\n",
            "\n",
            "    :Date: November, 1995\n",
            "\n",
            "This is a copy of UCI ML Breast Cancer Wisconsin (Diagnostic) datasets.\n",
            "https://goo.gl/U2Uwz2\n",
            "\n",
            "Features are computed from a digitized image of a fine needle\n",
            "aspirate (FNA) of a breast mass.  They describe\n",
            "characteristics of the cell nuclei present in the image.\n",
            "\n",
            "Separating plane described above was obtained using\n",
            "Multisurface Method-Tree (MSM-T) [K. P. Bennett, \"Decision Tree\n",
            "Construction Via Linear Programming.\" Proceedings of the 4th\n",
            "Midwest Artificial Intelligence and Cognitive Science Society,\n",
            "pp. 97-101, 1992], a classification method which uses linear\n",
            "programming to construct a decision tree.  Relevant features\n",
            "were selected using an exhaustive search in the space of 1-4\n",
            "features and 1-3 separating planes.\n",
            "\n",
            "The actual linear program used to obtain the separating plane\n",
            "in the 3-dimensional space is that described in:\n",
            "[K. P. Bennett and O. L. Mangasarian: \"Robust Linear\n",
            "Programming Discrimination of Two Linearly Inseparable Sets\",\n",
            "Optimization Methods and Software 1, 1992, 23-34].\n",
            "\n",
            "This database is also available through the UW CS ftp server:\n",
            "\n",
            "ftp ftp.cs.wisc.edu\n",
            "cd math-prog/cpo-dataset/machine-learn/WDBC/\n",
            "\n",
            ".. topic:: References\n",
            "\n",
            "   - W.N. Street, W.H. Wolberg and O.L. Mangasarian. Nuclear feature extraction \n",
            "     for breast tumor diagnosis. IS&T/SPIE 1993 International Symposium on \n",
            "     Electronic Imaging: Science and Technology, volume 1905, pages 861-870,\n",
            "     San Jose, CA, 1993.\n",
            "   - O.L. Mangasarian, W.N. Street and W.H. Wolberg. Breast cancer diagnosis and \n",
            "     prognosis via linear programming. Operations Research, 43(4), pages 570-577, \n",
            "     July-August 1995.\n",
            "   - W.H. Wolberg, W.N. Street, and O.L. Mangasarian. Machine learning techniques\n",
            "     to diagnose breast cancer from fine-needle aspirates. Cancer Letters 77 (1994) \n",
            "     163-171.\n"
          ]
        }
      ]
    },
    {
      "cell_type": "code",
      "metadata": {
        "colab": {
          "base_uri": "https://localhost:8080/"
        },
        "id": "cgcjImulclCo",
        "outputId": "d6d1a0c9-1713-4b94-ad06-29c4998c375e"
      },
      "source": [
        "data['data'].shape"
      ],
      "execution_count": 6,
      "outputs": [
        {
          "output_type": "execute_result",
          "data": {
            "text/plain": [
              "(569, 30)"
            ]
          },
          "metadata": {},
          "execution_count": 6
        }
      ]
    },
    {
      "cell_type": "code",
      "metadata": {
        "colab": {
          "base_uri": "https://localhost:8080/"
        },
        "id": "q_ik-Q7Ic4nj",
        "outputId": "b6999755-83fe-49de-af7d-e1845195d29c"
      },
      "source": [
        "data['feature_names']"
      ],
      "execution_count": 7,
      "outputs": [
        {
          "output_type": "execute_result",
          "data": {
            "text/plain": [
              "array(['mean radius', 'mean texture', 'mean perimeter', 'mean area',\n",
              "       'mean smoothness', 'mean compactness', 'mean concavity',\n",
              "       'mean concave points', 'mean symmetry', 'mean fractal dimension',\n",
              "       'radius error', 'texture error', 'perimeter error', 'area error',\n",
              "       'smoothness error', 'compactness error', 'concavity error',\n",
              "       'concave points error', 'symmetry error',\n",
              "       'fractal dimension error', 'worst radius', 'worst texture',\n",
              "       'worst perimeter', 'worst area', 'worst smoothness',\n",
              "       'worst compactness', 'worst concavity', 'worst concave points',\n",
              "       'worst symmetry', 'worst fractal dimension'], dtype='<U23')"
            ]
          },
          "metadata": {},
          "execution_count": 7
        }
      ]
    },
    {
      "cell_type": "code",
      "metadata": {
        "colab": {
          "base_uri": "https://localhost:8080/"
        },
        "id": "dcrB0fb6dAZD",
        "outputId": "ac7d805d-63d8-49ff-9a24-84d208865c7f"
      },
      "source": [
        "data['data'][0]"
      ],
      "execution_count": 8,
      "outputs": [
        {
          "output_type": "execute_result",
          "data": {
            "text/plain": [
              "array([1.799e+01, 1.038e+01, 1.228e+02, 1.001e+03, 1.184e-01, 2.776e-01,\n",
              "       3.001e-01, 1.471e-01, 2.419e-01, 7.871e-02, 1.095e+00, 9.053e-01,\n",
              "       8.589e+00, 1.534e+02, 6.399e-03, 4.904e-02, 5.373e-02, 1.587e-02,\n",
              "       3.003e-02, 6.193e-03, 2.538e+01, 1.733e+01, 1.846e+02, 2.019e+03,\n",
              "       1.622e-01, 6.656e-01, 7.119e-01, 2.654e-01, 4.601e-01, 1.189e-01])"
            ]
          },
          "metadata": {},
          "execution_count": 8
        }
      ]
    },
    {
      "cell_type": "code",
      "metadata": {
        "colab": {
          "base_uri": "https://localhost:8080/"
        },
        "id": "X27sXumkdGcX",
        "outputId": "6cef069d-07de-4482-8bf0-daf7aebd744b"
      },
      "source": [
        "j = 0\n",
        "for i in data['feature_names']:\n",
        "  print(i,\":\",data['data'][0][j])\n",
        "  j+=1"
      ],
      "execution_count": 9,
      "outputs": [
        {
          "output_type": "stream",
          "name": "stdout",
          "text": [
            "mean radius : 17.99\n",
            "mean texture : 10.38\n",
            "mean perimeter : 122.8\n",
            "mean area : 1001.0\n",
            "mean smoothness : 0.1184\n",
            "mean compactness : 0.2776\n",
            "mean concavity : 0.3001\n",
            "mean concave points : 0.1471\n",
            "mean symmetry : 0.2419\n",
            "mean fractal dimension : 0.07871\n",
            "radius error : 1.095\n",
            "texture error : 0.9053\n",
            "perimeter error : 8.589\n",
            "area error : 153.4\n",
            "smoothness error : 0.006399\n",
            "compactness error : 0.04904\n",
            "concavity error : 0.05373\n",
            "concave points error : 0.01587\n",
            "symmetry error : 0.03003\n",
            "fractal dimension error : 0.006193\n",
            "worst radius : 25.38\n",
            "worst texture : 17.33\n",
            "worst perimeter : 184.6\n",
            "worst area : 2019.0\n",
            "worst smoothness : 0.1622\n",
            "worst compactness : 0.6656\n",
            "worst concavity : 0.7119\n",
            "worst concave points : 0.2654\n",
            "worst symmetry : 0.4601\n",
            "worst fractal dimension : 0.1189\n"
          ]
        }
      ]
    },
    {
      "cell_type": "code",
      "metadata": {
        "id": "mVISJe0GdJSV"
      },
      "source": [
        "feature = data['data']"
      ],
      "execution_count": 10,
      "outputs": []
    },
    {
      "cell_type": "code",
      "metadata": {
        "id": "RghLO-4XdMJG"
      },
      "source": [
        "label = data['target']"
      ],
      "execution_count": 11,
      "outputs": []
    },
    {
      "cell_type": "code",
      "metadata": {
        "colab": {
          "base_uri": "https://localhost:8080/"
        },
        "id": "qNmDPlMxdTzm",
        "outputId": "a480b502-f5ac-477e-f1eb-4b3957193d7d"
      },
      "source": [
        "data['target_names']"
      ],
      "execution_count": 12,
      "outputs": [
        {
          "output_type": "execute_result",
          "data": {
            "text/plain": [
              "array(['malignant', 'benign'], dtype='<U9')"
            ]
          },
          "metadata": {},
          "execution_count": 12
        }
      ]
    },
    {
      "cell_type": "code",
      "metadata": {
        "colab": {
          "base_uri": "https://localhost:8080/"
        },
        "id": "MNGjwsuKdV7w",
        "outputId": "b2ac290c-4c58-488b-83b8-056723ed36f7"
      },
      "source": [
        "feature.shape"
      ],
      "execution_count": 13,
      "outputs": [
        {
          "output_type": "execute_result",
          "data": {
            "text/plain": [
              "(569, 30)"
            ]
          },
          "metadata": {},
          "execution_count": 13
        }
      ]
    },
    {
      "cell_type": "code",
      "metadata": {
        "colab": {
          "base_uri": "https://localhost:8080/"
        },
        "id": "raRjiJixdvWh",
        "outputId": "ea940b30-6889-4231-db8c-102da607c9be"
      },
      "source": [
        "label.shape"
      ],
      "execution_count": 14,
      "outputs": [
        {
          "output_type": "execute_result",
          "data": {
            "text/plain": [
              "(569,)"
            ]
          },
          "metadata": {},
          "execution_count": 14
        }
      ]
    },
    {
      "cell_type": "code",
      "metadata": {
        "id": "cFMTlGFqdxNu"
      },
      "source": [
        "scale = StandardScaler()\n",
        "\n",
        "feature = scale.fit_transform(feature)"
      ],
      "execution_count": 15,
      "outputs": []
    },
    {
      "cell_type": "code",
      "metadata": {
        "colab": {
          "base_uri": "https://localhost:8080/"
        },
        "id": "T_og43REdzpy",
        "outputId": "20a5d9be-a06b-4b27-a91b-89249ac71773"
      },
      "source": [
        "j = 0\n",
        "for i in data['feature_names']:\n",
        "  print(i,\":\",feature[0][j])\n",
        "  j+=1"
      ],
      "execution_count": 16,
      "outputs": [
        {
          "output_type": "stream",
          "name": "stdout",
          "text": [
            "mean radius : 1.0970639814699807\n",
            "mean texture : -2.0733350146975935\n",
            "mean perimeter : 1.2699336881399383\n",
            "mean area : 0.9843749048031144\n",
            "mean smoothness : 1.568466329243428\n",
            "mean compactness : 3.2835146709868264\n",
            "mean concavity : 2.652873983743168\n",
            "mean concave points : 2.532475216403245\n",
            "mean symmetry : 2.2175150059646405\n",
            "mean fractal dimension : 2.255746885296269\n",
            "radius error : 2.4897339267376193\n",
            "texture error : -0.5652650590684639\n",
            "perimeter error : 2.833030865855184\n",
            "area error : 2.4875775569611043\n",
            "smoothness error : -0.21400164666895383\n",
            "compactness error : 1.3168615683959484\n",
            "concavity error : 0.72402615808036\n",
            "concave points error : 0.6608199414286064\n",
            "symmetry error : 1.1487566671861758\n",
            "fractal dimension error : 0.9070830809973359\n",
            "worst radius : 1.8866896251792757\n",
            "worst texture : -1.3592934737640827\n",
            "worst perimeter : 2.3036006236225606\n",
            "worst area : 2.0012374893299207\n",
            "worst smoothness : 1.3076862710715387\n",
            "worst compactness : 2.616665023512603\n",
            "worst concavity : 2.1095263465722556\n",
            "worst concave points : 2.296076127561788\n",
            "worst symmetry : 2.750622244124955\n",
            "worst fractal dimension : 1.9370146123781782\n"
          ]
        }
      ]
    },
    {
      "cell_type": "code",
      "metadata": {
        "colab": {
          "base_uri": "https://localhost:8080/"
        },
        "id": "LXkjCr1keIA9",
        "outputId": "de517e66-8e80-49eb-eacb-236753176810"
      },
      "source": [
        "print(feature[568])\n",
        "print(data['target_names'][label[568]],label[568])"
      ],
      "execution_count": 17,
      "outputs": [
        {
          "output_type": "stream",
          "name": "stdout",
          "text": [
            "[-1.80840125  1.22179204 -1.81438851 -1.34778924 -3.11208479 -1.15075248\n",
            " -1.11487284 -1.26181958 -0.8200699  -0.56103238 -0.07027874  0.3830925\n",
            " -0.15744905 -0.46615196  0.04934236 -1.16351619 -1.05750068 -1.91344745\n",
            "  0.75282996 -0.382754   -1.41089258  0.76418957 -1.43273495 -1.07581292\n",
            " -1.85901852 -1.2075525  -1.30583065 -1.74506282 -0.04813821 -0.75120669]\n",
            "benign 1\n"
          ]
        }
      ]
    },
    {
      "cell_type": "code",
      "metadata": {
        "id": "KQzsK948e47N"
      },
      "source": [
        "df_frt = pd.DataFrame(feature , columns = data['feature_names'])\n",
        "df_lbl = pd.DataFrame(label , columns = ['label'])\n",
        "df = pd.concat([df_frt, df_lbl], axis=1)\n",
        "df = df.sample(frac = 1)\n",
        "\n",
        "feature = df.values[ : , : 30]\n",
        "label = df.values[ : ,30: ]"
      ],
      "execution_count": 18,
      "outputs": []
    },
    {
      "cell_type": "code",
      "metadata": {
        "colab": {
          "base_uri": "https://localhost:8080/",
          "height": 470
        },
        "id": "eBwStNrne7jJ",
        "outputId": "ff3d8055-45bc-4a87-f260-4347cb9a834d"
      },
      "source": [
        "df"
      ],
      "execution_count": 19,
      "outputs": [
        {
          "output_type": "execute_result",
          "data": {
            "text/html": [
              "<div>\n",
              "<style scoped>\n",
              "    .dataframe tbody tr th:only-of-type {\n",
              "        vertical-align: middle;\n",
              "    }\n",
              "\n",
              "    .dataframe tbody tr th {\n",
              "        vertical-align: top;\n",
              "    }\n",
              "\n",
              "    .dataframe thead th {\n",
              "        text-align: right;\n",
              "    }\n",
              "</style>\n",
              "<table border=\"1\" class=\"dataframe\">\n",
              "  <thead>\n",
              "    <tr style=\"text-align: right;\">\n",
              "      <th></th>\n",
              "      <th>mean radius</th>\n",
              "      <th>mean texture</th>\n",
              "      <th>mean perimeter</th>\n",
              "      <th>mean area</th>\n",
              "      <th>mean smoothness</th>\n",
              "      <th>mean compactness</th>\n",
              "      <th>mean concavity</th>\n",
              "      <th>mean concave points</th>\n",
              "      <th>mean symmetry</th>\n",
              "      <th>mean fractal dimension</th>\n",
              "      <th>radius error</th>\n",
              "      <th>texture error</th>\n",
              "      <th>perimeter error</th>\n",
              "      <th>area error</th>\n",
              "      <th>smoothness error</th>\n",
              "      <th>compactness error</th>\n",
              "      <th>concavity error</th>\n",
              "      <th>concave points error</th>\n",
              "      <th>symmetry error</th>\n",
              "      <th>fractal dimension error</th>\n",
              "      <th>worst radius</th>\n",
              "      <th>worst texture</th>\n",
              "      <th>worst perimeter</th>\n",
              "      <th>worst area</th>\n",
              "      <th>worst smoothness</th>\n",
              "      <th>worst compactness</th>\n",
              "      <th>worst concavity</th>\n",
              "      <th>worst concave points</th>\n",
              "      <th>worst symmetry</th>\n",
              "      <th>worst fractal dimension</th>\n",
              "      <th>label</th>\n",
              "    </tr>\n",
              "  </thead>\n",
              "  <tbody>\n",
              "    <tr>\n",
              "      <th>244</th>\n",
              "      <td>1.497524</td>\n",
              "      <td>0.979777</td>\n",
              "      <td>1.529432</td>\n",
              "      <td>1.422367</td>\n",
              "      <td>0.451169</td>\n",
              "      <td>0.975224</td>\n",
              "      <td>1.457641</td>\n",
              "      <td>1.030234</td>\n",
              "      <td>0.607449</td>\n",
              "      <td>-0.396590</td>\n",
              "      <td>0.429958</td>\n",
              "      <td>1.061657</td>\n",
              "      <td>0.579652</td>\n",
              "      <td>0.441639</td>\n",
              "      <td>1.189722</td>\n",
              "      <td>0.393566</td>\n",
              "      <td>0.240597</td>\n",
              "      <td>0.615401</td>\n",
              "      <td>0.159545</td>\n",
              "      <td>0.058287</td>\n",
              "      <td>1.114272</td>\n",
              "      <td>0.790245</td>\n",
              "      <td>1.121103</td>\n",
              "      <td>0.942974</td>\n",
              "      <td>0.610696</td>\n",
              "      <td>0.270582</td>\n",
              "      <td>0.353153</td>\n",
              "      <td>0.636377</td>\n",
              "      <td>0.031133</td>\n",
              "      <td>-0.432566</td>\n",
              "      <td>0</td>\n",
              "    </tr>\n",
              "    <tr>\n",
              "      <th>168</th>\n",
              "      <td>0.949377</td>\n",
              "      <td>1.254371</td>\n",
              "      <td>0.993959</td>\n",
              "      <td>0.937732</td>\n",
              "      <td>0.607733</td>\n",
              "      <td>1.060506</td>\n",
              "      <td>1.595745</td>\n",
              "      <td>1.428493</td>\n",
              "      <td>-0.998966</td>\n",
              "      <td>0.120835</td>\n",
              "      <td>2.464469</td>\n",
              "      <td>0.350434</td>\n",
              "      <td>2.213253</td>\n",
              "      <td>1.803324</td>\n",
              "      <td>-0.289005</td>\n",
              "      <td>0.607064</td>\n",
              "      <td>0.482311</td>\n",
              "      <td>0.631622</td>\n",
              "      <td>-1.100882</td>\n",
              "      <td>0.501219</td>\n",
              "      <td>1.422825</td>\n",
              "      <td>1.083363</td>\n",
              "      <td>1.430876</td>\n",
              "      <td>1.370147</td>\n",
              "      <td>0.229323</td>\n",
              "      <td>0.818934</td>\n",
              "      <td>1.040158</td>\n",
              "      <td>0.875435</td>\n",
              "      <td>-1.198380</td>\n",
              "      <td>0.501745</td>\n",
              "      <td>0</td>\n",
              "    </tr>\n",
              "    <tr>\n",
              "      <th>525</th>\n",
              "      <td>-1.578066</td>\n",
              "      <td>-1.440373</td>\n",
              "      <td>-1.542121</td>\n",
              "      <td>-1.233172</td>\n",
              "      <td>0.515218</td>\n",
              "      <td>-0.531039</td>\n",
              "      <td>-0.792838</td>\n",
              "      <td>-0.872330</td>\n",
              "      <td>-0.487834</td>\n",
              "      <td>1.199632</td>\n",
              "      <td>-1.005064</td>\n",
              "      <td>-0.975307</td>\n",
              "      <td>-0.889599</td>\n",
              "      <td>-0.727884</td>\n",
              "      <td>0.285352</td>\n",
              "      <td>-0.439188</td>\n",
              "      <td>-0.460343</td>\n",
              "      <td>-0.726073</td>\n",
              "      <td>-0.559661</td>\n",
              "      <td>0.049209</td>\n",
              "      <td>-1.407372</td>\n",
              "      <td>-1.176908</td>\n",
              "      <td>-1.309422</td>\n",
              "      <td>-1.063508</td>\n",
              "      <td>1.390974</td>\n",
              "      <td>-0.195709</td>\n",
              "      <td>-0.464345</td>\n",
              "      <td>-0.448975</td>\n",
              "      <td>0.133053</td>\n",
              "      <td>1.161193</td>\n",
              "      <td>1</td>\n",
              "    </tr>\n",
              "    <tr>\n",
              "      <th>111</th>\n",
              "      <td>-0.425252</td>\n",
              "      <td>0.342161</td>\n",
              "      <td>-0.404448</td>\n",
              "      <td>-0.496265</td>\n",
              "      <td>0.211341</td>\n",
              "      <td>0.313818</td>\n",
              "      <td>0.222232</td>\n",
              "      <td>0.291236</td>\n",
              "      <td>-0.279730</td>\n",
              "      <td>1.120246</td>\n",
              "      <td>-0.226558</td>\n",
              "      <td>1.063471</td>\n",
              "      <td>-0.076759</td>\n",
              "      <td>-0.436890</td>\n",
              "      <td>1.956420</td>\n",
              "      <td>0.835094</td>\n",
              "      <td>0.633839</td>\n",
              "      <td>1.809264</td>\n",
              "      <td>0.108692</td>\n",
              "      <td>0.792851</td>\n",
              "      <td>-0.608655</td>\n",
              "      <td>-0.033745</td>\n",
              "      <td>-0.543926</td>\n",
              "      <td>-0.620865</td>\n",
              "      <td>-0.160816</td>\n",
              "      <td>-0.186167</td>\n",
              "      <td>-0.242699</td>\n",
              "      <td>-0.062524</td>\n",
              "      <td>-1.091607</td>\n",
              "      <td>0.050660</td>\n",
              "      <td>1</td>\n",
              "    </tr>\n",
              "    <tr>\n",
              "      <th>221</th>\n",
              "      <td>-0.161119</td>\n",
              "      <td>-1.254207</td>\n",
              "      <td>-0.139183</td>\n",
              "      <td>-0.266177</td>\n",
              "      <td>0.621966</td>\n",
              "      <td>0.281600</td>\n",
              "      <td>-0.128052</td>\n",
              "      <td>-0.113729</td>\n",
              "      <td>0.549034</td>\n",
              "      <td>0.032944</td>\n",
              "      <td>-0.535145</td>\n",
              "      <td>-1.304066</td>\n",
              "      <td>-0.423280</td>\n",
              "      <td>-0.424789</td>\n",
              "      <td>-0.396676</td>\n",
              "      <td>-0.130678</td>\n",
              "      <td>-0.213986</td>\n",
              "      <td>-0.557375</td>\n",
              "      <td>-0.256965</td>\n",
              "      <td>-0.331690</td>\n",
              "      <td>-0.266969</td>\n",
              "      <td>-1.391862</td>\n",
              "      <td>-0.183517</td>\n",
              "      <td>-0.341005</td>\n",
              "      <td>0.229323</td>\n",
              "      <td>0.098824</td>\n",
              "      <td>-0.069509</td>\n",
              "      <td>-0.360965</td>\n",
              "      <td>0.265711</td>\n",
              "      <td>-0.120575</td>\n",
              "      <td>1</td>\n",
              "    </tr>\n",
              "    <tr>\n",
              "      <th>...</th>\n",
              "      <td>...</td>\n",
              "      <td>...</td>\n",
              "      <td>...</td>\n",
              "      <td>...</td>\n",
              "      <td>...</td>\n",
              "      <td>...</td>\n",
              "      <td>...</td>\n",
              "      <td>...</td>\n",
              "      <td>...</td>\n",
              "      <td>...</td>\n",
              "      <td>...</td>\n",
              "      <td>...</td>\n",
              "      <td>...</td>\n",
              "      <td>...</td>\n",
              "      <td>...</td>\n",
              "      <td>...</td>\n",
              "      <td>...</td>\n",
              "      <td>...</td>\n",
              "      <td>...</td>\n",
              "      <td>...</td>\n",
              "      <td>...</td>\n",
              "      <td>...</td>\n",
              "      <td>...</td>\n",
              "      <td>...</td>\n",
              "      <td>...</td>\n",
              "      <td>...</td>\n",
              "      <td>...</td>\n",
              "      <td>...</td>\n",
              "      <td>...</td>\n",
              "      <td>...</td>\n",
              "      <td>...</td>\n",
              "    </tr>\n",
              "    <tr>\n",
              "      <th>446</th>\n",
              "      <td>1.028901</td>\n",
              "      <td>2.033938</td>\n",
              "      <td>1.043388</td>\n",
              "      <td>0.929199</td>\n",
              "      <td>0.256887</td>\n",
              "      <td>0.512808</td>\n",
              "      <td>1.016961</td>\n",
              "      <td>0.877275</td>\n",
              "      <td>-0.360051</td>\n",
              "      <td>-0.515669</td>\n",
              "      <td>-0.055842</td>\n",
              "      <td>-0.253742</td>\n",
              "      <td>0.003436</td>\n",
              "      <td>0.079490</td>\n",
              "      <td>-0.775691</td>\n",
              "      <td>-0.297787</td>\n",
              "      <td>0.168314</td>\n",
              "      <td>-0.112920</td>\n",
              "      <td>-0.989490</td>\n",
              "      <td>-0.468617</td>\n",
              "      <td>1.089422</td>\n",
              "      <td>2.094623</td>\n",
              "      <td>1.135996</td>\n",
              "      <td>0.978132</td>\n",
              "      <td>0.338913</td>\n",
              "      <td>0.775677</td>\n",
              "      <td>1.764105</td>\n",
              "      <td>1.254577</td>\n",
              "      <td>0.115258</td>\n",
              "      <td>0.377059</td>\n",
              "      <td>0</td>\n",
              "    </tr>\n",
              "    <tr>\n",
              "      <th>72</th>\n",
              "      <td>0.872693</td>\n",
              "      <td>1.217138</td>\n",
              "      <td>0.915698</td>\n",
              "      <td>0.780737</td>\n",
              "      <td>0.764297</td>\n",
              "      <td>1.490705</td>\n",
              "      <td>1.009428</td>\n",
              "      <td>0.787254</td>\n",
              "      <td>0.421251</td>\n",
              "      <td>0.293783</td>\n",
              "      <td>0.669609</td>\n",
              "      <td>-0.319059</td>\n",
              "      <td>0.415301</td>\n",
              "      <td>0.640974</td>\n",
              "      <td>-0.407009</td>\n",
              "      <td>1.714795</td>\n",
              "      <td>0.352336</td>\n",
              "      <td>-0.085345</td>\n",
              "      <td>-0.638362</td>\n",
              "      <td>0.947178</td>\n",
              "      <td>1.460100</td>\n",
              "      <td>1.326001</td>\n",
              "      <td>1.320668</td>\n",
              "      <td>1.407063</td>\n",
              "      <td>1.145493</td>\n",
              "      <td>3.086136</td>\n",
              "      <td>1.844223</td>\n",
              "      <td>1.146468</td>\n",
              "      <td>0.666921</td>\n",
              "      <td>2.768252</td>\n",
              "      <td>0</td>\n",
              "    </tr>\n",
              "    <tr>\n",
              "      <th>503</th>\n",
              "      <td>2.545536</td>\n",
              "      <td>0.125743</td>\n",
              "      <td>2.476807</td>\n",
              "      <td>2.921209</td>\n",
              "      <td>-0.209246</td>\n",
              "      <td>0.438898</td>\n",
              "      <td>0.989340</td>\n",
              "      <td>1.325317</td>\n",
              "      <td>-1.119447</td>\n",
              "      <td>-1.128074</td>\n",
              "      <td>3.197139</td>\n",
              "      <td>-0.855742</td>\n",
              "      <td>3.350833</td>\n",
              "      <td>3.077223</td>\n",
              "      <td>-0.429344</td>\n",
              "      <td>0.451691</td>\n",
              "      <td>0.260823</td>\n",
              "      <td>1.583793</td>\n",
              "      <td>0.177707</td>\n",
              "      <td>-0.339633</td>\n",
              "      <td>3.007006</td>\n",
              "      <td>-0.294295</td>\n",
              "      <td>3.104840</td>\n",
              "      <td>3.342525</td>\n",
              "      <td>-0.546572</td>\n",
              "      <td>0.688526</td>\n",
              "      <td>0.514350</td>\n",
              "      <td>1.702239</td>\n",
              "      <td>0.011720</td>\n",
              "      <td>-0.619317</td>\n",
              "      <td>0</td>\n",
              "    </tr>\n",
              "    <tr>\n",
              "      <th>532</th>\n",
              "      <td>-0.127037</td>\n",
              "      <td>-0.688730</td>\n",
              "      <td>-0.173371</td>\n",
              "      <td>-0.225791</td>\n",
              "      <td>-0.255504</td>\n",
              "      <td>-0.602486</td>\n",
              "      <td>-0.894910</td>\n",
              "      <td>-0.776893</td>\n",
              "      <td>-0.659428</td>\n",
              "      <td>-0.176862</td>\n",
              "      <td>-0.723546</td>\n",
              "      <td>-1.336724</td>\n",
              "      <td>-0.739110</td>\n",
              "      <td>-0.507955</td>\n",
              "      <td>-1.071036</td>\n",
              "      <td>-1.019992</td>\n",
              "      <td>-0.822815</td>\n",
              "      <td>-1.089909</td>\n",
              "      <td>-1.211063</td>\n",
              "      <td>-0.793535</td>\n",
              "      <td>-0.086807</td>\n",
              "      <td>-0.891932</td>\n",
              "      <td>-0.168624</td>\n",
              "      <td>-0.188419</td>\n",
              "      <td>-0.261639</td>\n",
              "      <td>-0.622558</td>\n",
              "      <td>-0.727249</td>\n",
              "      <td>-0.419740</td>\n",
              "      <td>-0.153294</td>\n",
              "      <td>-0.339467</td>\n",
              "      <td>1</td>\n",
              "    </tr>\n",
              "    <tr>\n",
              "      <th>232</th>\n",
              "      <td>-0.825712</td>\n",
              "      <td>3.378983</td>\n",
              "      <td>-0.872369</td>\n",
              "      <td>-0.762473</td>\n",
              "      <td>-1.320851</td>\n",
              "      <td>-1.300090</td>\n",
              "      <td>-1.052512</td>\n",
              "      <td>-1.095861</td>\n",
              "      <td>0.121873</td>\n",
              "      <td>-0.640418</td>\n",
              "      <td>-0.654249</td>\n",
              "      <td>0.780434</td>\n",
              "      <td>-0.681686</td>\n",
              "      <td>-0.547338</td>\n",
              "      <td>-0.894029</td>\n",
              "      <td>-1.043186</td>\n",
              "      <td>-0.950636</td>\n",
              "      <td>-1.358853</td>\n",
              "      <td>-0.167367</td>\n",
              "      <td>-0.476939</td>\n",
              "      <td>-0.809525</td>\n",
              "      <td>2.622237</td>\n",
              "      <td>-0.858464</td>\n",
              "      <td>-0.720187</td>\n",
              "      <td>-1.421536</td>\n",
              "      <td>-1.179499</td>\n",
              "      <td>-1.194624</td>\n",
              "      <td>-1.287960</td>\n",
              "      <td>0.016573</td>\n",
              "      <td>-0.602692</td>\n",
              "      <td>1</td>\n",
              "    </tr>\n",
              "  </tbody>\n",
              "</table>\n",
              "<p>569 rows × 31 columns</p>\n",
              "</div>"
            ],
            "text/plain": [
              "     mean radius  mean texture  ...  worst fractal dimension  label\n",
              "244     1.497524      0.979777  ...                -0.432566      0\n",
              "168     0.949377      1.254371  ...                 0.501745      0\n",
              "525    -1.578066     -1.440373  ...                 1.161193      1\n",
              "111    -0.425252      0.342161  ...                 0.050660      1\n",
              "221    -0.161119     -1.254207  ...                -0.120575      1\n",
              "..           ...           ...  ...                      ...    ...\n",
              "446     1.028901      2.033938  ...                 0.377059      0\n",
              "72      0.872693      1.217138  ...                 2.768252      0\n",
              "503     2.545536      0.125743  ...                -0.619317      0\n",
              "532    -0.127037     -0.688730  ...                -0.339467      1\n",
              "232    -0.825712      3.378983  ...                -0.602692      1\n",
              "\n",
              "[569 rows x 31 columns]"
            ]
          },
          "metadata": {},
          "execution_count": 19
        }
      ]
    },
    {
      "cell_type": "code",
      "metadata": {
        "id": "byx-yn3Ce9uh"
      },
      "source": [
        "#500 Training\n",
        "X_train = feature[:500]\n",
        "y_train = label[:500]\n",
        "\n",
        "#35 Validation\n",
        "X_val = feature[500:535]\n",
        "y_val = label[500:535]\n",
        "\n",
        "#34 Testing\n",
        "X_test = feature[535:]\n",
        "y_test = label[535:]"
      ],
      "execution_count": 20,
      "outputs": []
    },
    {
      "cell_type": "code",
      "metadata": {
        "id": "S5dxayTMfEtV"
      },
      "source": [
        "model = Sequential()\n",
        "\n",
        "model.add(Dense(32, activation = 'relu', input_dim = 30))\n",
        "model.add(Dense(64, activation = 'relu'))\n",
        "model.add(Dense(128, activation = 'relu'))\n",
        "model.add(Dense(64, activation = 'relu'))\n",
        "model.add(Dense(32, activation = 'relu'))\n",
        "model.add(Dense(1, activation = 'sigmoid'))\n",
        "\n",
        "model.compile( loss = 'binary_crossentropy' , optimizer = 'adam' , metrics = ['accuracy'])"
      ],
      "execution_count": 21,
      "outputs": []
    },
    {
      "cell_type": "code",
      "metadata": {
        "colab": {
          "base_uri": "https://localhost:8080/"
        },
        "id": "PRSu9vw2fHdh",
        "outputId": "27ec284c-9f22-465d-d8eb-386eca5a1e01"
      },
      "source": [
        "model.fit( X_train , y_train, epochs = 10, batch_size = 5, validation_data = (X_val, y_val))"
      ],
      "execution_count": 22,
      "outputs": [
        {
          "output_type": "stream",
          "name": "stdout",
          "text": [
            "Epoch 1/10\n",
            "100/100 [==============================] - 1s 4ms/step - loss: 0.2597 - accuracy: 0.9080 - val_loss: 0.2861 - val_accuracy: 0.8857\n",
            "Epoch 2/10\n",
            "100/100 [==============================] - 0s 2ms/step - loss: 0.1063 - accuracy: 0.9580 - val_loss: 0.1070 - val_accuracy: 0.9714\n",
            "Epoch 3/10\n",
            "100/100 [==============================] - 0s 2ms/step - loss: 0.0644 - accuracy: 0.9720 - val_loss: 0.1566 - val_accuracy: 0.9143\n",
            "Epoch 4/10\n",
            "100/100 [==============================] - 0s 2ms/step - loss: 0.0566 - accuracy: 0.9780 - val_loss: 0.0814 - val_accuracy: 0.9714\n",
            "Epoch 5/10\n",
            "100/100 [==============================] - 0s 2ms/step - loss: 0.0432 - accuracy: 0.9880 - val_loss: 0.0665 - val_accuracy: 0.9429\n",
            "Epoch 6/10\n",
            "100/100 [==============================] - 0s 2ms/step - loss: 0.0429 - accuracy: 0.9840 - val_loss: 0.0556 - val_accuracy: 0.9714\n",
            "Epoch 7/10\n",
            "100/100 [==============================] - 0s 2ms/step - loss: 0.0225 - accuracy: 0.9920 - val_loss: 0.1854 - val_accuracy: 0.9429\n",
            "Epoch 8/10\n",
            "100/100 [==============================] - 0s 2ms/step - loss: 0.0230 - accuracy: 0.9880 - val_loss: 0.0413 - val_accuracy: 0.9714\n",
            "Epoch 9/10\n",
            "100/100 [==============================] - 0s 2ms/step - loss: 0.0101 - accuracy: 0.9960 - val_loss: 0.0806 - val_accuracy: 0.9714\n",
            "Epoch 10/10\n",
            "100/100 [==============================] - 0s 2ms/step - loss: 0.0119 - accuracy: 0.9940 - val_loss: 0.0680 - val_accuracy: 0.9714\n"
          ]
        },
        {
          "output_type": "execute_result",
          "data": {
            "text/plain": [
              "<keras.callbacks.History at 0x7f89bbb49c90>"
            ]
          },
          "metadata": {},
          "execution_count": 22
        }
      ]
    },
    {
      "cell_type": "code",
      "metadata": {
        "colab": {
          "base_uri": "https://localhost:8080/"
        },
        "id": "QA83YX1gfNpO",
        "outputId": "0d578be9-5898-4669-8d66-9d03326c4302"
      },
      "source": [
        "model.evaluate(X_test , y_test)"
      ],
      "execution_count": 23,
      "outputs": [
        {
          "output_type": "stream",
          "name": "stdout",
          "text": [
            "2/2 [==============================] - 0s 6ms/step - loss: 0.1822 - accuracy: 0.9706\n"
          ]
        },
        {
          "output_type": "execute_result",
          "data": {
            "text/plain": [
              "[0.18217237293720245, 0.970588207244873]"
            ]
          },
          "metadata": {},
          "execution_count": 23
        }
      ]
    },
    {
      "cell_type": "code",
      "metadata": {
        "colab": {
          "base_uri": "https://localhost:8080/"
        },
        "id": "h7JkC05CfRiR",
        "outputId": "890d3515-73ce-4718-e641-880c3d06aaa8"
      },
      "source": [
        "model.evaluate(X_val , y_val)"
      ],
      "execution_count": 24,
      "outputs": [
        {
          "output_type": "stream",
          "name": "stdout",
          "text": [
            "2/2 [==============================] - 0s 7ms/step - loss: 0.0680 - accuracy: 0.9714\n"
          ]
        },
        {
          "output_type": "execute_result",
          "data": {
            "text/plain": [
              "[0.06798455119132996, 0.9714285731315613]"
            ]
          },
          "metadata": {},
          "execution_count": 24
        }
      ]
    },
    {
      "cell_type": "code",
      "metadata": {
        "colab": {
          "base_uri": "https://localhost:8080/"
        },
        "id": "_eqfSkBmfVwz",
        "outputId": "b71946a9-e5b5-4c7e-bac5-d053cb469b88"
      },
      "source": [
        "for i in range(30):\n",
        "  sample = X_test[i]\n",
        "  sample = np.reshape(sample, (1,30))\n",
        "\n",
        "  if (model.predict(sample)[0][0] > 0.5):\n",
        "    print(\"-Benign\")\n",
        "  else:\n",
        "    print(\"-Malignant\")\n",
        "\n",
        "  if (y_test[i] == 1):\n",
        "    print(\"*Banign\")\n",
        "  else:\n",
        "    print(\"*Melignant\")\n",
        "  print(\"-----------\")"
      ],
      "execution_count": 25,
      "outputs": [
        {
          "output_type": "stream",
          "name": "stdout",
          "text": [
            "-Benign\n",
            "*Banign\n",
            "-----------\n",
            "-Malignant\n",
            "*Melignant\n",
            "-----------\n",
            "-Malignant\n",
            "*Melignant\n",
            "-----------\n",
            "-Malignant\n",
            "*Melignant\n",
            "-----------\n",
            "-Benign\n",
            "*Banign\n",
            "-----------\n",
            "-Benign\n",
            "*Banign\n",
            "-----------\n",
            "-Malignant\n",
            "*Melignant\n",
            "-----------\n",
            "-Benign\n",
            "*Banign\n",
            "-----------\n",
            "-Benign\n",
            "*Banign\n",
            "-----------\n",
            "-Benign\n",
            "*Banign\n",
            "-----------\n",
            "-Benign\n",
            "*Banign\n",
            "-----------\n",
            "-Malignant\n",
            "*Banign\n",
            "-----------\n",
            "-Benign\n",
            "*Banign\n",
            "-----------\n",
            "-Benign\n",
            "*Banign\n",
            "-----------\n",
            "-Malignant\n",
            "*Melignant\n",
            "-----------\n",
            "-Malignant\n",
            "*Melignant\n",
            "-----------\n",
            "-Benign\n",
            "*Banign\n",
            "-----------\n",
            "-Benign\n",
            "*Banign\n",
            "-----------\n",
            "-Malignant\n",
            "*Melignant\n",
            "-----------\n",
            "-Benign\n",
            "*Banign\n",
            "-----------\n",
            "-Benign\n",
            "*Banign\n",
            "-----------\n",
            "-Malignant\n",
            "*Melignant\n",
            "-----------\n",
            "-Benign\n",
            "*Banign\n",
            "-----------\n",
            "-Benign\n",
            "*Banign\n",
            "-----------\n",
            "-Benign\n",
            "*Banign\n",
            "-----------\n",
            "-Benign\n",
            "*Banign\n",
            "-----------\n",
            "-Benign\n",
            "*Banign\n",
            "-----------\n",
            "-Benign\n",
            "*Banign\n",
            "-----------\n",
            "-Malignant\n",
            "*Melignant\n",
            "-----------\n",
            "-Malignant\n",
            "*Melignant\n",
            "-----------\n"
          ]
        }
      ]
    },
    {
      "cell_type": "code",
      "metadata": {
        "colab": {
          "base_uri": "https://localhost:8080/"
        },
        "id": "nqVhtxZYfgpl",
        "outputId": "cf055691-e457-455e-8d38-f1fd8b619f32"
      },
      "source": [
        "t = 0\n",
        "for i in y_val:\n",
        "  if (i == 1):\n",
        "    t += 1\n",
        "\n",
        "print(t)"
      ],
      "execution_count": 26,
      "outputs": [
        {
          "output_type": "stream",
          "name": "stdout",
          "text": [
            "23\n"
          ]
        }
      ]
    },
    {
      "cell_type": "code",
      "metadata": {
        "colab": {
          "base_uri": "https://localhost:8080/"
        },
        "id": "hWYUqkkdfjlE",
        "outputId": "34fe07d5-6832-4801-e0b3-3da5c82e7144"
      },
      "source": [
        "t = 0\n",
        "for i in y_test:\n",
        "  if (i == 1):\n",
        "    t += 1\n",
        "\n",
        "print(t)"
      ],
      "execution_count": 27,
      "outputs": [
        {
          "output_type": "stream",
          "name": "stdout",
          "text": [
            "22\n"
          ]
        }
      ]
    },
    {
      "cell_type": "code",
      "metadata": {
        "colab": {
          "base_uri": "https://localhost:8080/"
        },
        "id": "N4KOnibWfl6g",
        "outputId": "5ade5183-6958-4c5c-99c6-8bf60b9a14c7"
      },
      "source": [
        "X_test[0] * -.1"
      ],
      "execution_count": 28,
      "outputs": [
        {
          "output_type": "execute_result",
          "data": {
            "text/plain": [
              "array([0.02718844, 0.02489144, 0.03167128, 0.03344355, 0.15443101,\n",
              "       0.08414643, 0.05048268, 0.05215323, 0.13056454, 0.10359297,\n",
              "       0.07322079, 0.0964965 , 0.08069292, 0.05158758, 0.03573408,\n",
              "       0.05895306, 0.05389248, 0.05406671, 0.11638428, 0.08029912,\n",
              "       0.02835353, 0.02910382, 0.03622319, 0.03392475, 0.0182734 ,\n",
              "       0.03674664, 0.04058152, 0.01538834, 0.10770467, 0.08143807])"
            ]
          },
          "metadata": {},
          "execution_count": 28
        }
      ]
    },
    {
      "cell_type": "code",
      "metadata": {
        "colab": {
          "base_uri": "https://localhost:8080/"
        },
        "id": "h6pbGgTpfope",
        "outputId": "76419496-a2e5-498a-ae5e-61fefa5a615a"
      },
      "source": [
        "348/350"
      ],
      "execution_count": 29,
      "outputs": [
        {
          "output_type": "execute_result",
          "data": {
            "text/plain": [
              "0.9942857142857143"
            ]
          },
          "metadata": {},
          "execution_count": 29
        }
      ]
    },
    {
      "cell_type": "code",
      "metadata": {
        "colab": {
          "base_uri": "https://localhost:8080/"
        },
        "id": "8nCxxglZfq0R",
        "outputId": "12829234-eaa7-47fc-bb38-88ec05c51aab"
      },
      "source": [
        "\n",
        "347/350"
      ],
      "execution_count": 30,
      "outputs": [
        {
          "output_type": "execute_result",
          "data": {
            "text/plain": [
              "0.9914285714285714"
            ]
          },
          "metadata": {},
          "execution_count": 30
        }
      ]
    },
    {
      "cell_type": "code",
      "metadata": {
        "colab": {
          "base_uri": "https://localhost:8080/"
        },
        "id": "sytpZPeEfsxq",
        "outputId": "c78204f4-ee0a-4a5c-bf95-0b8e6bf6e82a"
      },
      "source": [
        "\n",
        "32/35"
      ],
      "execution_count": 31,
      "outputs": [
        {
          "output_type": "execute_result",
          "data": {
            "text/plain": [
              "0.9142857142857143"
            ]
          },
          "metadata": {},
          "execution_count": 31
        }
      ]
    },
    {
      "cell_type": "code",
      "metadata": {
        "id": "i_Ii3PUmfurZ"
      },
      "source": [
        ""
      ],
      "execution_count": null,
      "outputs": []
    }
  ]
}